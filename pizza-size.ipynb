{
 "cells": [
  {
   "cell_type": "code",
   "execution_count": 1,
   "metadata": {
    "_cell_guid": "b1076dfc-b9ad-4769-8c92-a6c4dae69d19",
    "_uuid": "8f2839f25d086af736a60e9eeb907d3b93b6e0e5",
    "execution": {
     "iopub.execute_input": "2020-09-22T04:26:39.486722Z",
     "iopub.status.busy": "2020-09-22T04:26:39.485838Z",
     "iopub.status.idle": "2020-09-22T04:26:39.493543Z",
     "shell.execute_reply": "2020-09-22T04:26:39.492506Z"
    },
    "papermill": {
     "duration": 0.032053,
     "end_time": "2020-09-22T04:26:39.493737",
     "exception": false,
     "start_time": "2020-09-22T04:26:39.461684",
     "status": "completed"
    },
    "tags": []
   },
   "outputs": [
    {
     "name": "stdout",
     "output_type": "stream",
     "text": [
      "/kaggle/input/pizza-size-dom-eb/pizzasize.csv\n"
     ]
    }
   ],
   "source": [
    "# This Python 3 environment comes with many helpful analytics libraries installed\n",
    "# It is defined by the kaggle/python Docker image: https://github.com/kaggle/docker-python\n",
    "# For example, here's several helpful packages to load\n",
    "\n",
    "import numpy as np # linear algebra\n",
    "import pandas as pd # data processing, CSV file I/O (e.g. pd.read_csv)\n",
    "\n",
    "# Input data files are available in the read-only \"../input/\" directory\n",
    "# For example, running this (by clicking run or pressing Shift+Enter) will list all files under the input directory\n",
    "\n",
    "import os\n",
    "for dirname, _, filenames in os.walk('/kaggle/input'):\n",
    "    for filename in filenames:\n",
    "        print(os.path.join(dirname, filename))\n",
    "\n",
    "# You can write up to 5GB to the current directory (/kaggle/working/) that gets preserved as output when you create a version using \"Save & Run All\" \n",
    "# You can also write temporary files to /kaggle/temp/, but they won't be saved outside of the current session"
   ]
  },
  {
   "cell_type": "code",
   "execution_count": 2,
   "metadata": {
    "_cell_guid": "79c7e3d0-c299-4dcb-8224-4455121ee9b0",
    "_uuid": "d629ff2d2480ee46fbb7e2d37f6b5fab8052498a",
    "execution": {
     "iopub.execute_input": "2020-09-22T04:26:39.532853Z",
     "iopub.status.busy": "2020-09-22T04:26:39.532010Z",
     "iopub.status.idle": "2020-09-22T04:26:40.574029Z",
     "shell.execute_reply": "2020-09-22T04:26:40.573180Z"
    },
    "papermill": {
     "duration": 1.063087,
     "end_time": "2020-09-22T04:26:40.574161",
     "exception": false,
     "start_time": "2020-09-22T04:26:39.511074",
     "status": "completed"
    },
    "tags": []
   },
   "outputs": [],
   "source": [
    "import pandas as pd\n",
    "import matplotlib.pyplot as plt\n",
    "import seaborn as sns\n",
    "import numpy as np"
   ]
  },
  {
   "cell_type": "code",
   "execution_count": 3,
   "metadata": {
    "execution": {
     "iopub.execute_input": "2020-09-22T04:26:40.614667Z",
     "iopub.status.busy": "2020-09-22T04:26:40.613887Z",
     "iopub.status.idle": "2020-09-22T04:26:40.642358Z",
     "shell.execute_reply": "2020-09-22T04:26:40.641767Z"
    },
    "papermill": {
     "duration": 0.051922,
     "end_time": "2020-09-22T04:26:40.642493",
     "exception": false,
     "start_time": "2020-09-22T04:26:40.590571",
     "status": "completed"
    },
    "tags": []
   },
   "outputs": [
    {
     "data": {
      "text/html": [
       "<div>\n",
       "<style scoped>\n",
       "    .dataframe tbody tr th:only-of-type {\n",
       "        vertical-align: middle;\n",
       "    }\n",
       "\n",
       "    .dataframe tbody tr th {\n",
       "        vertical-align: top;\n",
       "    }\n",
       "\n",
       "    .dataframe thead th {\n",
       "        text-align: right;\n",
       "    }\n",
       "</style>\n",
       "<table border=\"1\" class=\"dataframe\">\n",
       "  <thead>\n",
       "    <tr style=\"text-align: right;\">\n",
       "      <th></th>\n",
       "      <th>ID</th>\n",
       "      <th>Store</th>\n",
       "      <th>Crust</th>\n",
       "      <th>Topping</th>\n",
       "      <th>Diameter</th>\n",
       "    </tr>\n",
       "  </thead>\n",
       "  <tbody>\n",
       "    <tr>\n",
       "      <th>0</th>\n",
       "      <td>1</td>\n",
       "      <td>Dominos</td>\n",
       "      <td>Thin</td>\n",
       "      <td>Supreme</td>\n",
       "      <td>29.40</td>\n",
       "    </tr>\n",
       "    <tr>\n",
       "      <th>1</th>\n",
       "      <td>2</td>\n",
       "      <td>Dominos</td>\n",
       "      <td>Thin</td>\n",
       "      <td>BBQMeatlovers</td>\n",
       "      <td>29.63</td>\n",
       "    </tr>\n",
       "    <tr>\n",
       "      <th>2</th>\n",
       "      <td>3</td>\n",
       "      <td>Dominos</td>\n",
       "      <td>DeepPan</td>\n",
       "      <td>Hawaiian</td>\n",
       "      <td>27.06</td>\n",
       "    </tr>\n",
       "    <tr>\n",
       "      <th>3</th>\n",
       "      <td>4</td>\n",
       "      <td>Dominos</td>\n",
       "      <td>Thin</td>\n",
       "      <td>Supreme</td>\n",
       "      <td>27.45</td>\n",
       "    </tr>\n",
       "    <tr>\n",
       "      <th>4</th>\n",
       "      <td>5</td>\n",
       "      <td>Dominos</td>\n",
       "      <td>Mid</td>\n",
       "      <td>Hawaiian</td>\n",
       "      <td>26.59</td>\n",
       "    </tr>\n",
       "  </tbody>\n",
       "</table>\n",
       "</div>"
      ],
      "text/plain": [
       "   ID    Store    Crust        Topping  Diameter\n",
       "0   1  Dominos     Thin        Supreme     29.40\n",
       "1   2  Dominos     Thin  BBQMeatlovers     29.63\n",
       "2   3  Dominos  DeepPan       Hawaiian     27.06\n",
       "3   4  Dominos     Thin        Supreme     27.45\n",
       "4   5  Dominos      Mid       Hawaiian     26.59"
      ]
     },
     "execution_count": 3,
     "metadata": {},
     "output_type": "execute_result"
    }
   ],
   "source": [
    "df = pd.read_csv(\"../input/pizza-size-dom-eb/pizzasize.csv\")\n",
    "df.head()"
   ]
  },
  {
   "cell_type": "markdown",
   "metadata": {
    "papermill": {
     "duration": 0.016381,
     "end_time": "2020-09-22T04:26:40.675642",
     "exception": false,
     "start_time": "2020-09-22T04:26:40.659261",
     "status": "completed"
    },
    "tags": []
   },
   "source": [
    "we have ID, Store, Crust ,Topping and Diameter"
   ]
  },
  {
   "cell_type": "code",
   "execution_count": 4,
   "metadata": {
    "execution": {
     "iopub.execute_input": "2020-09-22T04:26:40.720523Z",
     "iopub.status.busy": "2020-09-22T04:26:40.719629Z",
     "iopub.status.idle": "2020-09-22T04:26:40.723745Z",
     "shell.execute_reply": "2020-09-22T04:26:40.724268Z"
    },
    "papermill": {
     "duration": 0.032142,
     "end_time": "2020-09-22T04:26:40.724434",
     "exception": false,
     "start_time": "2020-09-22T04:26:40.692292",
     "status": "completed"
    },
    "tags": []
   },
   "outputs": [
    {
     "data": {
      "text/plain": [
       "<bound method DataFrame.info of       ID    Store    Crust        Topping  Diameter\n",
       "0      1  Dominos     Thin        Supreme     29.40\n",
       "1      2  Dominos     Thin  BBQMeatlovers     29.63\n",
       "2      3  Dominos  DeepPan       Hawaiian     27.06\n",
       "3      4  Dominos     Thin        Supreme     27.45\n",
       "4      5  Dominos      Mid       Hawaiian     26.59\n",
       "..   ...      ...      ...            ...       ...\n",
       "245  248  Dominos     Thin        Supreme     28.84\n",
       "246  249  Dominos  DeepPan  BBQMeatlovers     26.36\n",
       "247  250  Dominos  DeepPan       Hawaiian     26.11\n",
       "248  251  Dominos     Thin  BBQMeatlovers     29.14\n",
       "249  252  Dominos      Mid        Supreme     26.71\n",
       "\n",
       "[250 rows x 5 columns]>"
      ]
     },
     "execution_count": 4,
     "metadata": {},
     "output_type": "execute_result"
    }
   ],
   "source": [
    "# Summary of data \n",
    "\n",
    "df.info"
   ]
  },
  {
   "cell_type": "code",
   "execution_count": 5,
   "metadata": {
    "execution": {
     "iopub.execute_input": "2020-09-22T04:26:40.769269Z",
     "iopub.status.busy": "2020-09-22T04:26:40.768443Z",
     "iopub.status.idle": "2020-09-22T04:26:40.773238Z",
     "shell.execute_reply": "2020-09-22T04:26:40.772484Z"
    },
    "papermill": {
     "duration": 0.031263,
     "end_time": "2020-09-22T04:26:40.773402",
     "exception": false,
     "start_time": "2020-09-22T04:26:40.742139",
     "status": "completed"
    },
    "tags": []
   },
   "outputs": [
    {
     "data": {
      "text/plain": [
       "ID          0\n",
       "Store       0\n",
       "Crust       0\n",
       "Topping     0\n",
       "Diameter    0\n",
       "dtype: int64"
      ]
     },
     "execution_count": 5,
     "metadata": {},
     "output_type": "execute_result"
    }
   ],
   "source": [
    "#check for null value\n",
    "df.isnull().sum()"
   ]
  },
  {
   "cell_type": "markdown",
   "metadata": {
    "papermill": {
     "duration": 0.017783,
     "end_time": "2020-09-22T04:26:40.809378",
     "exception": false,
     "start_time": "2020-09-22T04:26:40.791595",
     "status": "completed"
    },
    "tags": []
   },
   "source": [
    "#check for duplicate rows\n"
   ]
  },
  {
   "cell_type": "code",
   "execution_count": 6,
   "metadata": {
    "execution": {
     "iopub.execute_input": "2020-09-22T04:26:40.857261Z",
     "iopub.status.busy": "2020-09-22T04:26:40.856175Z",
     "iopub.status.idle": "2020-09-22T04:26:40.861486Z",
     "shell.execute_reply": "2020-09-22T04:26:40.862067Z"
    },
    "papermill": {
     "duration": 0.034691,
     "end_time": "2020-09-22T04:26:40.862224",
     "exception": false,
     "start_time": "2020-09-22T04:26:40.827533",
     "status": "completed"
    },
    "tags": []
   },
   "outputs": [
    {
     "data": {
      "text/plain": [
       "False"
      ]
     },
     "execution_count": 6,
     "metadata": {},
     "output_type": "execute_result"
    }
   ],
   "source": [
    "df.duplicated().any()"
   ]
  },
  {
   "cell_type": "code",
   "execution_count": 7,
   "metadata": {
    "execution": {
     "iopub.execute_input": "2020-09-22T04:26:40.907107Z",
     "iopub.status.busy": "2020-09-22T04:26:40.906170Z",
     "iopub.status.idle": "2020-09-22T04:26:40.909660Z",
     "shell.execute_reply": "2020-09-22T04:26:40.910414Z"
    },
    "papermill": {
     "duration": 0.029629,
     "end_time": "2020-09-22T04:26:40.910623",
     "exception": false,
     "start_time": "2020-09-22T04:26:40.880994",
     "status": "completed"
    },
    "tags": []
   },
   "outputs": [
    {
     "name": "stdout",
     "output_type": "stream",
     "text": [
      "28.3082\n",
      "25.51\n",
      "31.06\n"
     ]
    }
   ],
   "source": [
    "print(df[\"Diameter\"].mean())\n",
    "print(df[\"Diameter\"].min())\n",
    "print(df[\"Diameter\"].max())"
   ]
  },
  {
   "cell_type": "code",
   "execution_count": 8,
   "metadata": {
    "execution": {
     "iopub.execute_input": "2020-09-22T04:26:40.966869Z",
     "iopub.status.busy": "2020-09-22T04:26:40.965845Z",
     "iopub.status.idle": "2020-09-22T04:26:40.969799Z",
     "shell.execute_reply": "2020-09-22T04:26:40.970372Z"
    },
    "papermill": {
     "duration": 0.039824,
     "end_time": "2020-09-22T04:26:40.970578",
     "exception": false,
     "start_time": "2020-09-22T04:26:40.930754",
     "status": "completed"
    },
    "tags": []
   },
   "outputs": [
    {
     "data": {
      "text/html": [
       "<div>\n",
       "<style scoped>\n",
       "    .dataframe tbody tr th:only-of-type {\n",
       "        vertical-align: middle;\n",
       "    }\n",
       "\n",
       "    .dataframe tbody tr th {\n",
       "        vertical-align: top;\n",
       "    }\n",
       "\n",
       "    .dataframe thead th {\n",
       "        text-align: right;\n",
       "    }\n",
       "</style>\n",
       "<table border=\"1\" class=\"dataframe\">\n",
       "  <thead>\n",
       "    <tr style=\"text-align: right;\">\n",
       "      <th></th>\n",
       "      <th>ID</th>\n",
       "      <th>Store</th>\n",
       "      <th>Crust</th>\n",
       "      <th>Topping</th>\n",
       "      <th>Diameter</th>\n",
       "    </tr>\n",
       "  </thead>\n",
       "  <tbody>\n",
       "    <tr>\n",
       "      <th>0</th>\n",
       "      <td>1</td>\n",
       "      <td>Dominos</td>\n",
       "      <td>Thin</td>\n",
       "      <td>Supreme</td>\n",
       "      <td>29.40</td>\n",
       "    </tr>\n",
       "    <tr>\n",
       "      <th>1</th>\n",
       "      <td>2</td>\n",
       "      <td>Dominos</td>\n",
       "      <td>Thin</td>\n",
       "      <td>BBQMeatlovers</td>\n",
       "      <td>29.63</td>\n",
       "    </tr>\n",
       "    <tr>\n",
       "      <th>2</th>\n",
       "      <td>3</td>\n",
       "      <td>Dominos</td>\n",
       "      <td>DeepPan</td>\n",
       "      <td>Hawaiian</td>\n",
       "      <td>27.06</td>\n",
       "    </tr>\n",
       "    <tr>\n",
       "      <th>3</th>\n",
       "      <td>4</td>\n",
       "      <td>Dominos</td>\n",
       "      <td>Thin</td>\n",
       "      <td>Supreme</td>\n",
       "      <td>27.45</td>\n",
       "    </tr>\n",
       "    <tr>\n",
       "      <th>4</th>\n",
       "      <td>5</td>\n",
       "      <td>Dominos</td>\n",
       "      <td>Mid</td>\n",
       "      <td>Hawaiian</td>\n",
       "      <td>26.59</td>\n",
       "    </tr>\n",
       "  </tbody>\n",
       "</table>\n",
       "</div>"
      ],
      "text/plain": [
       "   ID    Store    Crust        Topping  Diameter\n",
       "0   1  Dominos     Thin        Supreme     29.40\n",
       "1   2  Dominos     Thin  BBQMeatlovers     29.63\n",
       "2   3  Dominos  DeepPan       Hawaiian     27.06\n",
       "3   4  Dominos     Thin        Supreme     27.45\n",
       "4   5  Dominos      Mid       Hawaiian     26.59"
      ]
     },
     "execution_count": 8,
     "metadata": {},
     "output_type": "execute_result"
    }
   ],
   "source": [
    "df.head()"
   ]
  },
  {
   "cell_type": "code",
   "execution_count": 9,
   "metadata": {
    "execution": {
     "iopub.execute_input": "2020-09-22T04:26:41.029665Z",
     "iopub.status.busy": "2020-09-22T04:26:41.028663Z",
     "iopub.status.idle": "2020-09-22T04:26:41.033398Z",
     "shell.execute_reply": "2020-09-22T04:26:41.032679Z"
    },
    "papermill": {
     "duration": 0.042888,
     "end_time": "2020-09-22T04:26:41.033536",
     "exception": false,
     "start_time": "2020-09-22T04:26:40.990648",
     "status": "completed"
    },
    "tags": []
   },
   "outputs": [
    {
     "data": {
      "text/html": [
       "<div>\n",
       "<style scoped>\n",
       "    .dataframe tbody tr th:only-of-type {\n",
       "        vertical-align: middle;\n",
       "    }\n",
       "\n",
       "    .dataframe tbody tr th {\n",
       "        vertical-align: top;\n",
       "    }\n",
       "\n",
       "    .dataframe thead th {\n",
       "        text-align: right;\n",
       "    }\n",
       "</style>\n",
       "<table border=\"1\" class=\"dataframe\">\n",
       "  <thead>\n",
       "    <tr style=\"text-align: right;\">\n",
       "      <th></th>\n",
       "      <th>Diameter</th>\n",
       "    </tr>\n",
       "    <tr>\n",
       "      <th>Store</th>\n",
       "      <th></th>\n",
       "    </tr>\n",
       "  </thead>\n",
       "  <tbody>\n",
       "    <tr>\n",
       "      <th>EagleBoys</th>\n",
       "      <td>29.17432</td>\n",
       "    </tr>\n",
       "    <tr>\n",
       "      <th>Dominos</th>\n",
       "      <td>27.44208</td>\n",
       "    </tr>\n",
       "  </tbody>\n",
       "</table>\n",
       "</div>"
      ],
      "text/plain": [
       "           Diameter\n",
       "Store              \n",
       "EagleBoys  29.17432\n",
       "Dominos    27.44208"
      ]
     },
     "execution_count": 9,
     "metadata": {},
     "output_type": "execute_result"
    }
   ],
   "source": [
    "avg_per_Store = df.groupby(\"Store\")[\"Diameter\"].mean()\n",
    "df1 = pd.DataFrame(avg_per_Store)\n",
    "df1 = pd.DataFrame(df1.Diameter.sort_values(ascending=False))\n",
    "df1.head()\n"
   ]
  },
  {
   "cell_type": "markdown",
   "metadata": {
    "papermill": {
     "duration": 0.020271,
     "end_time": "2020-09-22T04:26:41.074426",
     "exception": false,
     "start_time": "2020-09-22T04:26:41.054155",
     "status": "completed"
    },
    "tags": []
   },
   "source": []
  },
  {
   "cell_type": "code",
   "execution_count": 10,
   "metadata": {
    "execution": {
     "iopub.execute_input": "2020-09-22T04:26:41.123058Z",
     "iopub.status.busy": "2020-09-22T04:26:41.122310Z",
     "iopub.status.idle": "2020-09-22T04:26:41.347991Z",
     "shell.execute_reply": "2020-09-22T04:26:41.347260Z"
    },
    "papermill": {
     "duration": 0.25306,
     "end_time": "2020-09-22T04:26:41.348109",
     "exception": false,
     "start_time": "2020-09-22T04:26:41.095049",
     "status": "completed"
    },
    "tags": []
   },
   "outputs": [
    {
     "data": {
      "text/plain": [
       "Text(0.5, 1.0, 'Average Diameter acc to Store')"
      ]
     },
     "execution_count": 10,
     "metadata": {},
     "output_type": "execute_result"
    },
    {
     "data": {
      "image/png": "[encoded data removed]",
      "text/plain": [
       "<Figure size 1080x720 with 1 Axes>"
      ]
     },
     "metadata": {
      "needs_background": "light"
     },
     "output_type": "display_data"
    }
   ],
   "source": [
    "plt.figure(figsize=(15,10))\n",
    "sns.barplot(x=df1.index, y=df1.Diameter, palette=\"mako\")\n",
    "\n",
    "plt.xticks(rotation=90)\n",
    "plt.xlabel('Store')\n",
    "plt.ylabel('Average Diameter')\n",
    "plt.title('Average Diameter acc to Store')"
   ]
  },
  {
   "cell_type": "code",
   "execution_count": 11,
   "metadata": {
    "execution": {
     "iopub.execute_input": "2020-09-22T04:26:41.407768Z",
     "iopub.status.busy": "2020-09-22T04:26:41.402090Z",
     "iopub.status.idle": "2020-09-22T04:26:41.598866Z",
     "shell.execute_reply": "2020-09-22T04:26:41.599417Z"
    },
    "papermill": {
     "duration": 0.229244,
     "end_time": "2020-09-22T04:26:41.599603",
     "exception": false,
     "start_time": "2020-09-22T04:26:41.370359",
     "status": "completed"
    },
    "tags": []
   },
   "outputs": [
    {
     "data": {
      "text/plain": [
       "Text(0.5, 1.0, 'Average Diameter acc to Store')"
      ]
     },
     "execution_count": 11,
     "metadata": {},
     "output_type": "execute_result"
    },
    {
     "data": {
      "image/png": "[encoded data removed]",
      "text/plain": [
       "<Figure size 1080x720 with 1 Axes>"
      ]
     },
     "metadata": {
      "needs_background": "light"
     },
     "output_type": "display_data"
    }
   ],
   "source": [
    "plt.figure(figsize=(15,10))\n",
    "sns.boxplot(x=\"Store\", y=\"Diameter\", data= df ,palette=\"mako\")\n",
    "sns.color_palette(\"rocket\")\n",
    "\n",
    "plt.xticks(rotation=90)\n",
    "plt.xlabel('Store')\n",
    "plt.ylabel('Average Diameter')\n",
    "plt.title('Average Diameter acc to Store')"
   ]
  },
  {
   "cell_type": "code",
   "execution_count": 12,
   "metadata": {
    "execution": {
     "iopub.execute_input": "2020-09-22T04:26:41.666906Z",
     "iopub.status.busy": "2020-09-22T04:26:41.666061Z",
     "iopub.status.idle": "2020-09-22T04:26:41.670702Z",
     "shell.execute_reply": "2020-09-22T04:26:41.670065Z"
    },
    "papermill": {
     "duration": 0.046888,
     "end_time": "2020-09-22T04:26:41.670841",
     "exception": false,
     "start_time": "2020-09-22T04:26:41.623953",
     "status": "completed"
    },
    "tags": []
   },
   "outputs": [
    {
     "data": {
      "text/html": [
       "<div>\n",
       "<style scoped>\n",
       "    .dataframe tbody tr th:only-of-type {\n",
       "        vertical-align: middle;\n",
       "    }\n",
       "\n",
       "    .dataframe tbody tr th {\n",
       "        vertical-align: top;\n",
       "    }\n",
       "\n",
       "    .dataframe thead th {\n",
       "        text-align: right;\n",
       "    }\n",
       "</style>\n",
       "<table border=\"1\" class=\"dataframe\">\n",
       "  <thead>\n",
       "    <tr style=\"text-align: right;\">\n",
       "      <th></th>\n",
       "      <th>Topping</th>\n",
       "      <th>Diameter</th>\n",
       "    </tr>\n",
       "    <tr>\n",
       "      <th>Crust</th>\n",
       "      <th></th>\n",
       "      <th></th>\n",
       "    </tr>\n",
       "  </thead>\n",
       "  <tbody>\n",
       "    <tr>\n",
       "      <th>Thin</th>\n",
       "      <td>BBQMeatlovers</td>\n",
       "      <td>29.249615</td>\n",
       "    </tr>\n",
       "    <tr>\n",
       "      <th>Thin</th>\n",
       "      <td>Hawaiian</td>\n",
       "      <td>29.240741</td>\n",
       "    </tr>\n",
       "    <tr>\n",
       "      <th>Thin</th>\n",
       "      <td>Supreme</td>\n",
       "      <td>29.218966</td>\n",
       "    </tr>\n",
       "    <tr>\n",
       "      <th>DeepPan</th>\n",
       "      <td>Hawaiian</td>\n",
       "      <td>28.023448</td>\n",
       "    </tr>\n",
       "    <tr>\n",
       "      <th>DeepPan</th>\n",
       "      <td>Supreme</td>\n",
       "      <td>27.894000</td>\n",
       "    </tr>\n",
       "  </tbody>\n",
       "</table>\n",
       "</div>"
      ],
      "text/plain": [
       "               Topping   Diameter\n",
       "Crust                            \n",
       "Thin     BBQMeatlovers  29.249615\n",
       "Thin          Hawaiian  29.240741\n",
       "Thin           Supreme  29.218966\n",
       "DeepPan       Hawaiian  28.023448\n",
       "DeepPan        Supreme  27.894000"
      ]
     },
     "execution_count": 12,
     "metadata": {},
     "output_type": "execute_result"
    }
   ],
   "source": [
    "avg_per_Top_Cr = df.groupby([\"Topping\",\"Crust\"])[\"Diameter\"].mean()\n",
    "df2 = pd.DataFrame(avg_per_Top_Cr)\n",
    "df2 = pd.DataFrame(df2.Diameter.sort_values(ascending=False))\n",
    "df2.reset_index(level=0, inplace=True)\n",
    "df2.head()"
   ]
  },
  {
   "cell_type": "code",
   "execution_count": 13,
   "metadata": {
    "execution": {
     "iopub.execute_input": "2020-09-22T04:26:41.735785Z",
     "iopub.status.busy": "2020-09-22T04:26:41.732373Z",
     "iopub.status.idle": "2020-09-22T04:26:41.907384Z",
     "shell.execute_reply": "2020-09-22T04:26:41.906621Z"
    },
    "papermill": {
     "duration": 0.212077,
     "end_time": "2020-09-22T04:26:41.907526",
     "exception": false,
     "start_time": "2020-09-22T04:26:41.695449",
     "status": "completed"
    },
    "tags": []
   },
   "outputs": [
    {
     "data": {
      "text/plain": [
       "Text(0.5, 1.0, 'Average Diameter According to Supreme topping')"
      ]
     },
     "execution_count": 13,
     "metadata": {},
     "output_type": "execute_result"
    },
    {
     "data": {
      "image/png": "[encoded data removed]",
      "text/plain": [
       "<Figure size 1080x720 with 1 Axes>"
      ]
     },
     "metadata": {
      "needs_background": "light"
     },
     "output_type": "display_data"
    }
   ],
   "source": [
    "plt.figure(figsize=(15,10))\n",
    "sns.barplot(x=df2[df2[\"Topping\"] == \"Supreme\"].index, y=df2[df2[\"Topping\"] == \"Supreme\"][\"Diameter\"])\n",
    "sns.color_palette(\"rocket\")\n",
    "\n",
    "plt.xticks(rotation=90)\n",
    "plt.xlabel('Topping')\n",
    "plt.ylabel('Average Diameter')\n",
    "plt.title('Average Diameter According to Supreme topping')"
   ]
  },
  {
   "cell_type": "code",
   "execution_count": 14,
   "metadata": {
    "execution": {
     "iopub.execute_input": "2020-09-22T04:26:41.978730Z",
     "iopub.status.busy": "2020-09-22T04:26:41.977661Z",
     "iopub.status.idle": "2020-09-22T04:26:41.981741Z",
     "shell.execute_reply": "2020-09-22T04:26:41.982311Z"
    },
    "papermill": {
     "duration": 0.04853,
     "end_time": "2020-09-22T04:26:41.982481",
     "exception": false,
     "start_time": "2020-09-22T04:26:41.933951",
     "status": "completed"
    },
    "tags": []
   },
   "outputs": [
    {
     "data": {
      "text/html": [
       "<div>\n",
       "<style scoped>\n",
       "    .dataframe tbody tr th:only-of-type {\n",
       "        vertical-align: middle;\n",
       "    }\n",
       "\n",
       "    .dataframe tbody tr th {\n",
       "        vertical-align: top;\n",
       "    }\n",
       "\n",
       "    .dataframe thead th {\n",
       "        text-align: right;\n",
       "    }\n",
       "</style>\n",
       "<table border=\"1\" class=\"dataframe\">\n",
       "  <thead>\n",
       "    <tr style=\"text-align: right;\">\n",
       "      <th></th>\n",
       "      <th>Crust</th>\n",
       "      <th>Diameter</th>\n",
       "    </tr>\n",
       "  </thead>\n",
       "  <tbody>\n",
       "    <tr>\n",
       "      <th>0</th>\n",
       "      <td>Thin</td>\n",
       "      <td>29.249615</td>\n",
       "    </tr>\n",
       "    <tr>\n",
       "      <th>1</th>\n",
       "      <td>Thin</td>\n",
       "      <td>29.240741</td>\n",
       "    </tr>\n",
       "    <tr>\n",
       "      <th>2</th>\n",
       "      <td>Thin</td>\n",
       "      <td>29.218966</td>\n",
       "    </tr>\n",
       "    <tr>\n",
       "      <th>3</th>\n",
       "      <td>DeepPan</td>\n",
       "      <td>28.023448</td>\n",
       "    </tr>\n",
       "    <tr>\n",
       "      <th>4</th>\n",
       "      <td>DeepPan</td>\n",
       "      <td>27.894000</td>\n",
       "    </tr>\n",
       "  </tbody>\n",
       "</table>\n",
       "</div>"
      ],
      "text/plain": [
       "     Crust   Diameter\n",
       "0     Thin  29.249615\n",
       "1     Thin  29.240741\n",
       "2     Thin  29.218966\n",
       "3  DeepPan  28.023448\n",
       "4  DeepPan  27.894000"
      ]
     },
     "execution_count": 14,
     "metadata": {},
     "output_type": "execute_result"
    }
   ],
   "source": [
    "avg_per_Top_Cr = df.groupby([\"Crust\",\"Topping\"])[\"Diameter\"].mean()\n",
    "df3 = pd.DataFrame(avg_per_Top_Cr)\n",
    "df3 = pd.DataFrame(df2.Diameter.sort_values(ascending=False))\n",
    "df3.reset_index(level=0, inplace=True)\n",
    "df3.head()"
   ]
  },
  {
   "cell_type": "code",
   "execution_count": 15,
   "metadata": {
    "execution": {
     "iopub.execute_input": "2020-09-22T04:26:42.054711Z",
     "iopub.status.busy": "2020-09-22T04:26:42.053832Z",
     "iopub.status.idle": "2020-09-22T04:26:42.216272Z",
     "shell.execute_reply": "2020-09-22T04:26:42.216822Z"
    },
    "papermill": {
     "duration": 0.207402,
     "end_time": "2020-09-22T04:26:42.216988",
     "exception": false,
     "start_time": "2020-09-22T04:26:42.009586",
     "status": "completed"
    },
    "tags": []
   },
   "outputs": [
    {
     "data": {
      "text/plain": [
       "Text(0.5, 1.0, 'Average Diameter According to Thin Crust')"
      ]
     },
     "execution_count": 15,
     "metadata": {},
     "output_type": "execute_result"
    },
    {
     "data": {
      "image/png": "[encoded data removed]",
      "text/plain": [
       "<Figure size 1080x720 with 1 Axes>"
      ]
     },
     "metadata": {
      "needs_background": "light"
     },
     "output_type": "display_data"
    }
   ],
   "source": [
    "plt.figure(figsize=(15,10))\n",
    "sns.barplot(x=df3[df3[\"Crust\"] == \"Thin\"].index, y=df3[df3[\"Crust\"] == \"Thin\"][\"Diameter\"])\n",
    "sns.color_palette(\"rocket\")\n",
    "\n",
    "plt.xticks(rotation=90)\n",
    "plt.xlabel('Crust')\n",
    "plt.ylabel('Average Diameter')\n",
    "plt.title('Average Diameter According to Thin Crust')"
   ]
  },
  {
   "cell_type": "code",
   "execution_count": 16,
   "metadata": {
    "execution": {
     "iopub.execute_input": "2020-09-22T04:26:42.285878Z",
     "iopub.status.busy": "2020-09-22T04:26:42.284998Z",
     "iopub.status.idle": "2020-09-22T04:26:42.500452Z",
     "shell.execute_reply": "2020-09-22T04:26:42.499752Z"
    },
    "papermill": {
     "duration": 0.254731,
     "end_time": "2020-09-22T04:26:42.500592",
     "exception": false,
     "start_time": "2020-09-22T04:26:42.245861",
     "status": "completed"
    },
    "tags": []
   },
   "outputs": [
    {
     "data": {
      "text/plain": [
       "<matplotlib.axes._subplots.AxesSubplot at 0x7f78d96b2750>"
      ]
     },
     "execution_count": 16,
     "metadata": {},
     "output_type": "execute_result"
    },
    {
     "data": {
      "image/png": "[encoded data removed]",
      "text/plain": [
       "<Figure size 1080x720 with 1 Axes>"
      ]
     },
     "metadata": {
      "needs_background": "light"
     },
     "output_type": "display_data"
    }
   ],
   "source": [
    "plt.figure(figsize=(15,10))\n",
    "sns.distplot(df[\"Diameter\"], color=\"b\")"
   ]
  },
  {
   "cell_type": "code",
   "execution_count": null,
   "metadata": {
    "papermill": {
     "duration": 0.029788,
     "end_time": "2020-09-22T04:26:42.560550",
     "exception": false,
     "start_time": "2020-09-22T04:26:42.530762",
     "status": "completed"
    },
    "tags": []
   },
   "outputs": [],
   "source": []
  }
 ],
 "metadata": {
  "kernelspec": {
   "display_name": "Python 3",
   "language": "python",
   "name": "python3"
  },
  "language_info": {
   "codemirror_mode": {
    "name": "ipython",
    "version": 3
   },
   "file_extension": ".py",
   "mimetype": "text/x-python",
   "name": "python",
   "nbconvert_exporter": "python",
   "pygments_lexer": "ipython3",
   "version": "3.7.6"
  },
  "papermill": {
   "duration": 8.881991,
   "end_time": "2020-09-22T04:26:43.625066",
   "environment_variables": {},
   "exception": null,
   "input_path": "__notebook__.ipynb",
   "output_path": "__notebook__.ipynb",
   "parameters": {},
   "start_time": "2020-09-22T04:26:34.743075",
   "version": "2.1.0"
  }
 },
 "nbformat": 4,
 "nbformat_minor": 4
}
